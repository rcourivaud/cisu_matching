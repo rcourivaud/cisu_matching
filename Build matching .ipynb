{
 "cells": [
  {
   "cell_type": "code",
   "execution_count": 1,
   "metadata": {},
   "outputs": [],
   "source": [
    "import json\n",
    "import itertools\n",
    "import torch\n",
    "! pip install fairseq sentencepiece annoy"
   ]
  },
  {
   "cell_type": "code",
   "execution_count": 2,
   "metadata": {},
   "outputs": [],
   "source": [
    "with open(\"data/nature-de-fait.json\") as f:\n",
    "    nf = json.load(f)"
   ]
  },
  {
   "cell_type": "code",
   "execution_count": 46,
   "metadata": {},
   "outputs": [],
   "source": [
    "def get_all_childs(codes):\n",
    "    def _clean_label_codes(codes):\n",
    "        return [{k:v for k,v in e.items() if k in [\"code\", \"label\"]} for e in codes]\n",
    "        \n",
    "    enfants = list(itertools.chain.from_iterable([elt.get(\"enfants\", []) for elt in codes]))\n",
    "    if enfants:\n",
    "        return _clean_label_codes(codes) + get_all_childs(enfants)\n",
    "    else:\n",
    "        return _clean_label_codes(codes)\n",
    "\n",
    "result = get_all_childs(nf)"
   ]
  },
  {
   "cell_type": "code",
   "execution_count": 48,
   "metadata": {},
   "outputs": [],
   "source": [
    "from fairseq.models.roberta import CamembertModel\n",
    "camembert = CamembertModel.from_pretrained('./camembert-base/')\n",
    "camembert.eval();"
   ]
  },
  {
   "cell_type": "code",
   "execution_count": 32,
   "metadata": {},
   "outputs": [],
   "source": [
    "def embed(sentence):\n",
    "    tokens = camembert.encode(sentence)\n",
    "    # Extract all layer's features (layer 0 is the embedding layer)\n",
    "    all_layers = camembert.extract_features(tokens, return_all_hiddens=True)\n",
    "    pooling_layer = all_layers[-2]\n",
    "    embedded = pooling_layer.mean(1)  # 1 is the dimension you want to average ovber\n",
    "    # note, using numpy to take the mean is bad if you want to stay on GPU\n",
    "    return embedded"
   ]
  },
  {
   "cell_type": "code",
   "execution_count": 39,
   "metadata": {},
   "outputs": [],
   "source": [
    "line = \"feu d'usine\"\n",
    "line_2 = \"J'aime beaucoup le camembert !\"\n",
    "\n",
    "cos = torch.nn.CosineSimilarity(dim=1, eps=1e-6)\n",
    "output = cos(embed(line), embed(line_2))\n"
   ]
  },
  {
   "cell_type": "code",
   "execution_count": 40,
   "metadata": {},
   "outputs": [
    {
     "data": {
      "text/plain": [
       "tensor([0.9026], grad_fn=<DivBackward0>)"
      ]
     },
     "execution_count": 40,
     "metadata": {},
     "output_type": "execute_result"
    }
   ],
   "source": [
    "output"
   ]
  },
  {
   "cell_type": "code",
   "execution_count": 43,
   "metadata": {},
   "outputs": [],
   "source": [
    "from tqdm.auto import tqdm"
   ]
  },
  {
   "cell_type": "code",
   "execution_count": null,
   "metadata": {},
   "outputs": [],
   "source": []
  },
  {
   "cell_type": "code",
   "execution_count": 53,
   "metadata": {},
   "outputs": [
    {
     "data": {
      "application/vnd.jupyter.widget-view+json": {
       "model_id": "f494a1e2fc9a4f6e8054c7b9c48a7160",
       "version_major": 2,
       "version_minor": 0
      },
      "text/plain": [
       "  0%|          | 0/299 [00:00<?, ?it/s]"
      ]
     },
     "metadata": {},
     "output_type": "display_data"
    }
   ],
   "source": [
    "nf_with_embedding = [{**res, **{\"embedding\":embed(res[\"label\"])}} for res in tqdm(result)]"
   ]
  },
  {
   "cell_type": "code",
   "execution_count": 59,
   "metadata": {},
   "outputs": [
    {
     "data": {
      "text/plain": [
       "True"
      ]
     },
     "execution_count": 59,
     "metadata": {},
     "output_type": "execute_result"
    }
   ],
   "source": [
    "from annoy import AnnoyIndex\n",
    "import random\n",
    "\n",
    "f = 768\n",
    "t = AnnoyIndex(f, 'angular')  # Length of item vector that will be indexed\n",
    "for i, elt in enumerate(nf_with_embedding):\n",
    "    t.add_item(i, elt[\"embedding\"][0])\n",
    "\n",
    "t.build(10)"
   ]
  },
  {
   "cell_type": "code",
   "execution_count": 76,
   "metadata": {},
   "outputs": [
    {
     "data": {
      "text/plain": [
       "['Incendie',\n",
       " 'Incident',\n",
       " 'Explosion',\n",
       " 'Incendie en milieu industriel',\n",
       " 'Incendie en milieu agricole',\n",
       " 'Attentat',\n",
       " 'Traumatisme / Accident',\n",
       " 'Infraction aérienne',\n",
       " 'Accident de chasse',\n",
       " 'Accident de pêche']"
      ]
     },
     "execution_count": 76,
     "metadata": {},
     "output_type": "execute_result"
    }
   ],
   "source": [
    "line = \"Incendie\"\n",
    "\n",
    "output = embed(line)[0]\n",
    "podium = t.get_nns_by_vector(output, 10)\n",
    "\n",
    "[nf_with_embedding[p][\"label\"] for p in podium]"
   ]
  },
  {
   "cell_type": "code",
   "execution_count": 64,
   "metadata": {},
   "outputs": [
    {
     "name": "stdout",
     "output_type": "stream",
     "text": [
      "[97, 17, 93, 38, 52, 290, 195, 48, 218, 190]\n"
     ]
    }
   ],
   "source": []
  },
  {
   "cell_type": "code",
   "execution_count": 70,
   "metadata": {},
   "outputs": [
    {
     "data": {
      "text/plain": [
       "{'label': 'Homicide ou infanticide', 'code': 'C02.03.00'}"
      ]
     },
     "execution_count": 70,
     "metadata": {},
     "output_type": "execute_result"
    }
   ],
   "source": []
  },
  {
   "cell_type": "code",
   "execution_count": 77,
   "metadata": {},
   "outputs": [
    {
     "data": {
      "text/plain": [
       "tensor([0.4822], grad_fn=<DivBackward0>)"
      ]
     },
     "execution_count": 77,
     "metadata": {},
     "output_type": "execute_result"
    }
   ],
   "source": [
    "line = \"feu\"\n",
    "line_2 = \"incendie\"\n",
    "\n",
    "cos = torch.nn.CosineSimilarity(dim=1, eps=1e-6)\n",
    "output = cos(embed(line), embed(line_2))\n",
    "output"
   ]
  },
  {
   "cell_type": "code",
   "execution_count": 74,
   "metadata": {},
   "outputs": [
    {
     "data": {
      "text/plain": [
       "[{'label': 'Accident de la circulation', 'code': 'C01.00.00'},\n",
       " {'label': 'Atteinte aux personnes', 'code': 'C02.00.00'},\n",
       " {'label': 'Atteinte aux biens / animal', 'code': 'C03.00.00'},\n",
       " {'label': 'Incendie', 'code': 'C04.00.00'},\n",
       " {'label': 'Explosion', 'code': 'C05.00.00'},\n",
       " {'label': \"Suspicion d'infractions\", 'code': 'C06.00.00'},\n",
       " {'label': 'Ordre public', 'code': 'C07.00.00'},\n",
       " {'label': 'Aléa naturel', 'code': 'C08.00.00'},\n",
       " {'label': 'Aléa technologique', 'code': 'C09.00.00'},\n",
       " {'label': 'Disparitions et découvertes', 'code': 'C10.00.00'},\n",
       " {'label': 'Autre nature de fait', 'code': 'C11.00.00'},\n",
       " {'label': 'Accident routier', 'code': 'C01.01.00'},\n",
       " {'label': 'Accident ferroviaire', 'code': 'C01.02.00'},\n",
       " {'label': 'Accident maritime ou fluvial', 'code': 'C01.03.00'},\n",
       " {'label': 'Accident aérien', 'code': 'C01.04.00'},\n",
       " {'label': \"Autre type d'accident\", 'code': 'C01.05.00'},\n",
       " {'label': 'Attentat', 'code': 'C02.01.00'},\n",
       " {'label': \"Prise d'otage\", 'code': 'C02.02.00'},\n",
       " {'label': 'Homicide ou infanticide', 'code': 'C02.03.00'},\n",
       " {'label': 'Enlèvement / séquestration', 'code': 'C02.04.00'},\n",
       " {'label': 'Pathologie / maladie', 'code': 'C02.05.00'},\n",
       " {'label': 'Epidémie / TIAC', 'code': 'C02.06.00'},\n",
       " {'label': 'Personne exposée', 'code': 'C02.07.00'},\n",
       " {'label': 'Traumatisme / Accident', 'code': 'C02.08.00'},\n",
       " {'label': 'Accident de sport ou de loisirs', 'code': 'C02.09.00'},\n",
       " {'label': 'Noyade', 'code': 'C02.10.00'},\n",
       " {'label': 'Chute', 'code': 'C02.11.00'},\n",
       " {'label': 'Ensevelissement', 'code': 'C02.12.00'},\n",
       " {'label': 'Tentative de suicide avec risque imminent', 'code': 'C02.13.00'},\n",
       " {'label': 'Atteinte sexuelle', 'code': 'C02.14.00'},\n",
       " {'label': 'Agression ou violence', 'code': 'C02.15.00'},\n",
       " {'label': 'Autre attente aux personnes', 'code': 'C02.16.00'},\n",
       " {'label': 'Dégradation volontaire de lieux, biens ou véhicules',\n",
       "  'code': 'C03.01.00'},\n",
       " {'label': 'Vol', 'code': 'C03.02.00'},\n",
       " {'label': 'Cambriolage', 'code': 'C03.03.00'},\n",
       " {'label': 'Intrusion', 'code': 'C03.04.00'},\n",
       " {'label': 'Escroquerie – filouterie – grivèlerie', 'code': 'C03.05.00'},\n",
       " {'label': 'Autre atteinte aux biens', 'code': 'C03.06.00'},\n",
       " {'label': \"Disparition d'animal\", 'code': 'C03.07.00'},\n",
       " {'label': \"Découverte / divagation d'animal\", 'code': 'C03.08.00'},\n",
       " {'label': \"Découverte d’animal mort / carcasse d'animal\",\n",
       "  'code': 'C03.09.00'},\n",
       " {'label': 'Hyménoptères', 'code': 'C03.10.00'},\n",
       " {'label': 'Animal en difficulté / blessé', 'code': 'C03.11.00'},\n",
       " {'label': 'Animal dangereux ou sauvage', 'code': 'C03.12.00'},\n",
       " {'label': 'Epizootie', 'code': 'C03.13.00'},\n",
       " {'label': 'Braconnage', 'code': 'C03.14.00'},\n",
       " {'label': 'Autre fait d’animal', 'code': 'C03.15.00'},\n",
       " {'label': \"Incendie d'un moyen de transport / véhicule\", 'code': 'C04.01.00'},\n",
       " {'label': \"Incendie d'un bâtiment / local\", 'code': 'C04.02.00'},\n",
       " {'label': 'Incendie en milieu agricole', 'code': 'C04.03.00'},\n",
       " {'label': 'Incendie en milieu industriel', 'code': 'C04.04.00'},\n",
       " {'label': 'Incendie de forêt / végétation', 'code': 'C04.05.00'},\n",
       " {'label': 'Feux de poubelles', 'code': 'C04.06.00'},\n",
       " {'label': \"Feux de matériaux à l'air libre\", 'code': 'C04.07.00'},\n",
       " {'label': 'Autre type d’incendie', 'code': 'C04.08.00'},\n",
       " {'label': 'Alarme incendie', 'code': 'C04.09.00'},\n",
       " {'label': \"Explosion d'un moyen de transport / véhicule\",\n",
       "  'code': 'C05.01.00'},\n",
       " {'label': \"Explosion d'un bâtiment / local\", 'code': 'C05.02.00'},\n",
       " {'label': 'Explosion d’un silo / lieu de stockage', 'code': 'C05.03.00'},\n",
       " {'label': \"Explosion d'un(e) substance / engin explosif\",\n",
       "  'code': 'C05.04.00'},\n",
       " {'label': \"Autre type d'explosion\", 'code': 'C05.05.00'},\n",
       " {'label': 'Prostitution / Racolage', 'code': 'C06.01.00'},\n",
       " {'label': \"Détention d'arme\", 'code': 'C06.02.00'},\n",
       " {'label': 'Infractions au code de la route', 'code': 'C06.03.00'},\n",
       " {'label': 'Infractions à la législation sur le travail', 'code': 'C06.04.00'},\n",
       " {'label': 'Trafic de stupéfiants', 'code': 'C06.05.00'},\n",
       " {'label': 'Affaire liée a la législation sur les séjours en France',\n",
       "  'code': 'C06.06.00'},\n",
       " {'label': 'Occupation illégale d’un lieu', 'code': 'C06.07.00'},\n",
       " {'label': 'Autres Infractions', 'code': 'C06.08.00'},\n",
       " {'label': 'Alerte à la bombe', 'code': 'C07.01.00'},\n",
       " {'label': 'Violence urbaine', 'code': 'C07.02.00'},\n",
       " {'label': 'Différends et litiges inter-personnels', 'code': 'C07.03.00'},\n",
       " {'label': 'Rassemblement', 'code': 'C07.04.00'},\n",
       " {'label': 'Ivresse publique et manifeste', 'code': 'C07.05.00'},\n",
       " {'label': 'OVNI- PAN', 'code': 'C07.06.00'},\n",
       " {'label': 'Nuisances particulières', 'code': 'C07.07.00'},\n",
       " {'label': 'Détournement', 'code': 'C07.08.00'},\n",
       " {'label': 'Comportement suspect ou dangereux', 'code': 'C07.09.00'},\n",
       " {'label': 'Véhicule suspect', 'code': 'C07.10.00'},\n",
       " {'label': 'Colis, bagages ou enveloppes suspects', 'code': 'C07.11.00'},\n",
       " {'label': 'Coups de feu', 'code': 'C07.12.00'},\n",
       " {'label': \"Autres troubles à l'ordre public\", 'code': 'C07.13.00'},\n",
       " {'label': 'Inondation', 'code': 'C08.01.00'},\n",
       " {'label': 'Avalanche', 'code': 'C08.02.00'},\n",
       " {'label': 'Tremblement de terre', 'code': 'C08.03.00'},\n",
       " {'label': 'Foudre', 'code': 'C08.04.00'},\n",
       " {'label': 'Tempête', 'code': 'C08.05.00'},\n",
       " {'label': 'Éboulement / effondrement', 'code': 'C08.06.00'},\n",
       " {'label': 'Affaissement de la chaussée', 'code': 'C08.07.00'},\n",
       " {'label': 'Pollution', 'code': 'C08.08.00'},\n",
       " {'label': 'Intempérie importante', 'code': 'C08.09.00'},\n",
       " {'label': 'Autre aléa naturel', 'code': 'C08.10.00'},\n",
       " {'label': 'Électricité', 'code': 'C09.01.00'},\n",
       " {'label': 'Fuite d’eau', 'code': 'C09.02.00'},\n",
       " {'label': 'Fuite de gaz', 'code': 'C09.03.00'},\n",
       " {'label': 'Fuite d’autres fluides', 'code': 'C09.04.00'},\n",
       " {'label': 'Immeuble en péril', 'code': 'C09.05.00'},\n",
       " {'label': 'Panne d’ascenseur', 'code': 'C09.06.00'},\n",
       " {'label': 'Chaudière surchauffée', 'code': 'C09.07.00'},\n",
       " {'label': 'Autre aléas technologique', 'code': 'C09.08.00'},\n",
       " {'label': 'Disparition ou découverte d’individu', 'code': 'C10.01.00'},\n",
       " {'label': 'Découverte de cadavre', 'code': 'C10.02.00'},\n",
       " {'label': \"Disparition ou découverte d'objet\", 'code': 'C10.03.00'},\n",
       " {'label': \"Disparition ou découverte d'engin explosif\", 'code': 'C10.04.00'},\n",
       " {'label': 'Découverte de stupéfiants', 'code': 'C10.05.00'},\n",
       " {'label': 'Découverte d’armes', 'code': 'C10.06.00'},\n",
       " {'label': 'Découverte de véhicule volé', 'code': 'C10.07.00'},\n",
       " {'label': 'Autre découverte', 'code': 'C10.08.00'},\n",
       " {'label': 'Alarme', 'code': 'C11.01.00'},\n",
       " {'label': 'Demande de sécurisation', 'code': 'C11.02.00'},\n",
       " {'label': \"Demande d'information et d'orientation\", 'code': 'C11.03.00'},\n",
       " {'label': 'Appels malveillants, appels anonymes intempestifs',\n",
       "  'code': 'C11.04.00'},\n",
       " {'label': 'Dépannage / panne', 'code': 'C11.05.00'},\n",
       " {'label': 'Autre nature de fait', 'code': 'C11.06.00'},\n",
       " {'label': 'Véhicule léger, fourgon', 'code': 'C01.01.01'},\n",
       " {'label': 'Camion de marchandises', 'code': 'C01.01.02'},\n",
       " {'label': 'Bus car autocar', 'code': 'C01.01.03'},\n",
       " {'label': '2-roues', 'code': 'C01.01.04'},\n",
       " {'label': 'Piéton', 'code': 'C01.01.05'},\n",
       " {'label': 'Carambolage', 'code': 'C01.01.06'},\n",
       " {'label': 'Train de voyageurs', 'code': 'C01.02.01'},\n",
       " {'label': 'Train de marchandises', 'code': 'C01.02.02'},\n",
       " {'label': 'Bateau de voyageurs', 'code': 'C01.03.01'},\n",
       " {'label': 'Bateau de marchandises', 'code': 'C01.03.02'},\n",
       " {'label': 'Aéronef de marchandises', 'code': 'C01.04.01'},\n",
       " {'label': 'Aéronef de voyageurs', 'code': 'C01.04.02'},\n",
       " {'label': 'Aéronef militaire', 'code': 'C01.04.03'},\n",
       " {'label': 'Drone', 'code': 'C01.04.04'},\n",
       " {'label': 'Homicide', 'code': 'C02.03.01'},\n",
       " {'label': 'Infanticide', 'code': 'C02.03.02'},\n",
       " {'label': 'Alerte enlèvement', 'code': 'C02.04.01'},\n",
       " {'label': 'Enlèvement', 'code': 'C02.04.02'},\n",
       " {'label': 'Séquestration', 'code': 'C02.04.03'},\n",
       " {'label': 'Médicale', 'code': 'C02.05.01'},\n",
       " {'label': 'Obstétrique', 'code': 'C02.05.02'},\n",
       " {'label': 'Psychiatrique', 'code': 'C02.05.03'},\n",
       " {'label': 'Intoxication alimentaire collective (TIAC)', 'code': 'C02.06.01'},\n",
       " {'label': 'à la chaleur, canicule', 'code': 'C02.07.01'},\n",
       " {'label': 'au froid', 'code': 'C02.07.02'},\n",
       " {'label': 'aux flammes, à la fumée', 'code': 'C02.07.03'},\n",
       " {'label': 'à produits chimiques ou toxiques / Accident technologique / Intervention à caractère NRBC',\n",
       "  'code': 'C02.07.04'},\n",
       " {'label': 'Electrisation, foudroiement', 'code': 'C02.07.05'},\n",
       " {'label': 'Accident avec machine professionnelle / Accident du travail',\n",
       "  'code': 'C02.08.01'},\n",
       " {'label': 'Accident domestique', 'code': 'C02.08.02'},\n",
       " {'label': 'Autre accident (hors sport et loisirs)', 'code': 'C02.08.03'},\n",
       " {'label': 'Par arme à feu', 'code': 'C02.08.04'},\n",
       " {'label': 'Par objet tranchant ou perforant', 'code': 'C02.08.05'},\n",
       " {'label': \"Blessures, piqûre, morsure d'animaux\", 'code': 'C02.08.06'},\n",
       " {'label': 'Pendaison / strangulation accidentelle', 'code': 'C02.08.07'},\n",
       " {'label': 'Etouffement / fausse route', 'code': 'C02.08.08'},\n",
       " {'label': 'Accident de chasse', 'code': 'C02.09.01'},\n",
       " {'label': 'Accident de plongée', 'code': 'C02.09.02'},\n",
       " {'label': 'Accident de spéléologie', 'code': 'C02.09.03'},\n",
       " {'label': 'Accident en montagne', 'code': 'C02.09.04'},\n",
       " {'label': 'Accident de parachutisme ou deltaplane', 'code': 'C02.09.05'},\n",
       " {'label': 'Accident de pêche', 'code': 'C02.09.06'},\n",
       " {'label': 'Autre accident de sport ou de loisirs', 'code': 'C02.09.07'},\n",
       " {'label': 'Chute de grande hauteur', 'code': 'C02.11.01'},\n",
       " {'label': 'Chute de faible hauteur', 'code': 'C02.11.02'},\n",
       " {'label': 'Médicamenteuse', 'code': 'C02.13.01'},\n",
       " {'label': 'Pendaison/ strangulation volontaire', 'code': 'C02.13.02'},\n",
       " {'label': 'Immolation', 'code': 'C02.13.03'},\n",
       " {'label': 'Arme à feu', 'code': 'C02.13.04'},\n",
       " {'label': 'Phlébotomie ou objet tranchant ou perforant', 'code': 'C02.13.05'},\n",
       " {'label': 'Défenestration', 'code': 'C02.13.06'},\n",
       " {'label': 'Suicide sur rails', 'code': 'C02.13.07'},\n",
       " {'label': 'Autre type de tentative de suicide', 'code': 'C02.13.08'},\n",
       " {'label': 'Suspicion de viol', 'code': 'C02.14.01'},\n",
       " {'label': 'Agression sexuelle', 'code': 'C02.14.02'},\n",
       " {'label': 'Exhibition sexuelle', 'code': 'C02.14.03'},\n",
       " {'label': 'Harcèlement sexuel', 'code': 'C02.14.04'},\n",
       " {'label': 'Rixe ou bagarre', 'code': 'C02.15.01'},\n",
       " {'label': 'Agression ou violence physique', 'code': 'C02.15.02'},\n",
       " {'label': 'Agression verbale', 'code': 'C02.15.03'},\n",
       " {'label': 'Violences intra familiales', 'code': 'C02.15.04'},\n",
       " {'label': 'Voie de fait', 'code': 'C02.15.05'},\n",
       " {'label': 'Autre agression ou menace', 'code': 'C02.15.06'},\n",
       " {'label': 'Jeux dangereux', 'code': 'C02.16.01'},\n",
       " {'label': 'Autre type d’atteinte aux personnes', 'code': 'C02.16.02'},\n",
       " {'label': 'Altercation – Incivilité', 'code': 'C02.16.03'},\n",
       " {'label': 'Dégradation de bâtiment ou de local', 'code': 'C03.01.01'},\n",
       " {'label': 'Dégradation de véhicule', 'code': 'C03.01.02'},\n",
       " {'label': 'Dégradations d’autres biens', 'code': 'C03.01.03'},\n",
       " {'label': 'Jets de projectiles – Caillassages', 'code': 'C03.01.04'},\n",
       " {'label': 'Profanation de cimetière ou lieu de culte', 'code': 'C03.01.05'},\n",
       " {'label': 'Vol à l’arraché', 'code': 'C03.02.01'},\n",
       " {'label': 'Vol à la portière', 'code': 'C03.02.02'},\n",
       " {'label': 'Vol à l’étalage', 'code': 'C03.02.03'},\n",
       " {'label': 'Vol à la roulotte', 'code': 'C03.02.04'},\n",
       " {'label': 'Vol de véhicule', 'code': 'C03.02.05'},\n",
       " {'label': 'Vol de carburant', 'code': 'C03.02.06'},\n",
       " {'label': 'Vol de DAB ou dans DAB', 'code': 'C03.02.07'},\n",
       " {'label': 'Vol de fret', 'code': 'C03.02.08'},\n",
       " {'label': 'Vol de métaux', 'code': 'C03.02.09'},\n",
       " {'label': 'Vol par ruse', 'code': 'C03.02.10'},\n",
       " {'label': 'Vol d’armes', 'code': 'C03.02.11'},\n",
       " {'label': 'Vol à main armée', 'code': 'C03.02.12'},\n",
       " {'label': 'Vol avec violences, extorsion, racket', 'code': 'C03.02.13'},\n",
       " {'label': 'Car jacking', 'code': 'C03.02.14'},\n",
       " {'label': 'Autre type de vol', 'code': 'C03.02.15'},\n",
       " {'label': 'Home jacking', 'code': 'C03.03.01'},\n",
       " {'label': 'Autre type de cambriolage', 'code': 'C03.03.02'},\n",
       " {'label': 'Violation de domicile', 'code': 'C03.04.01'},\n",
       " {'label': 'Déclenchement d’alarme intrusion', 'code': 'C03.04.02'},\n",
       " {'label': 'Véhicule léger, fourgon', 'code': 'C04.01.01'},\n",
       " {'label': 'Camion de marchandises', 'code': 'C04.01.02'},\n",
       " {'label': 'Bus car autocar', 'code': 'C04.01.03'},\n",
       " {'label': '2-roues', 'code': 'C04.01.04'},\n",
       " {'label': 'Train de voyageurs', 'code': 'C04.01.05'},\n",
       " {'label': 'Train de marchandises', 'code': 'C04.01.06'},\n",
       " {'label': 'Bateau de voyageurs', 'code': 'C04.01.07'},\n",
       " {'label': 'Bateau de marchandises', 'code': 'C04.01.08'},\n",
       " {'label': 'Aéronef de marchandises', 'code': 'C04.01.09'},\n",
       " {'label': 'Aéronef de voyageurs', 'code': 'C04.01.10'},\n",
       " {'label': 'Aéronef militaire', 'code': 'C04.01.11'},\n",
       " {'label': 'Bâtiment d’habitation', 'code': 'C04.02.01'},\n",
       " {'label': 'Bâtiment de bureaux', 'code': 'C04.02.02'},\n",
       " {'label': 'Bâtiment industriel', 'code': 'C04.02.03'},\n",
       " {'label': \"Bâtiment de production transport d'énergie\", 'code': 'C04.02.04'},\n",
       " {'label': 'Feu de produits de classe A', 'code': 'C04.07.01'},\n",
       " {'label': 'Feu de produits de classe B', 'code': 'C04.07.02'},\n",
       " {'label': 'Feu de produits de classe C', 'code': 'C04.07.03'},\n",
       " {'label': 'Feu de produits de classe D', 'code': 'C04.07.04'},\n",
       " {'label': 'Stationnement dangereux', 'code': 'C06.03.01'},\n",
       " {'label': 'Conduite délictueuse ou dangereuse', 'code': 'C06.03.02'},\n",
       " {'label': 'Conduite en état alcoolique', 'code': 'C06.03.03'},\n",
       " {'label': 'Stationnement irrégulier sensible', 'code': 'C06.03.04'},\n",
       " {'label': 'Délit de fuite', 'code': 'C06.03.05'},\n",
       " {'label': 'Conduite à contre-sens', 'code': 'C06.03.06'},\n",
       " {'label': 'Infractions à la législation sur les professions réglementées',\n",
       "  'code': 'C06.04.01'},\n",
       " {'label': 'Vente à la sauvette', 'code': 'C06.04.02'},\n",
       " {'label': 'Remise\\xa0 - découverte ESI', 'code': 'C06.06.01'},\n",
       " {'label': 'Squat', 'code': 'C06.07.01'},\n",
       " {'label': 'Lieu de culte clandestin', 'code': 'C06.07.02'},\n",
       " {'label': 'Infraction aérienne', 'code': 'C06.08.01'},\n",
       " {'label': 'Infraction comportement voyageur', 'code': 'C06.08.02'},\n",
       " {'label': 'Fausse monnaie', 'code': 'C06.08.03'},\n",
       " {'label': 'Orpaillage', 'code': 'C06.08.04'},\n",
       " {'label': 'Jeux illégaux', 'code': 'C06.08.05'},\n",
       " {'label': 'Non respect décision de justice', 'code': 'C06.08.06'},\n",
       " {'label': 'Différend familial', 'code': 'C07.03.01'},\n",
       " {'label': 'Non représentation d’enfant', 'code': 'C07.03.02'},\n",
       " {'label': 'Différend de voisinage', 'code': 'C07.03.03'},\n",
       " {'label': 'Autres différends', 'code': 'C07.03.04'},\n",
       " {'label': 'Litiges', 'code': 'C07.03.05'},\n",
       " {'label': 'Grève', 'code': 'C07.04.01'},\n",
       " {'label': 'Manifestation', 'code': 'C07.04.02'},\n",
       " {'label': 'Free party / rave party / teknival', 'code': 'C07.04.03'},\n",
       " {'label': 'Autre rassemblement', 'code': 'C07.04.04'},\n",
       " {'label': 'Obstacle', 'code': 'C07.07.01'},\n",
       " {'label': 'Nuisance aéronautique', 'code': 'C07.07.02'},\n",
       " {'label': 'Tapage', 'code': 'C07.07.03'},\n",
       " {'label': 'Ouverture intempestives de bouches incendies',\n",
       "  'code': 'C07.07.04'},\n",
       " {'label': 'Perturbateurs - indésirables', 'code': 'C07.07.05'},\n",
       " {'label': 'Détournement d’aéronef', 'code': 'C07.08.01'},\n",
       " {'label': 'Détournement de navire', 'code': 'C07.08.02'},\n",
       " {'label': 'Détournement de véhicule', 'code': 'C07.08.03'},\n",
       " {'label': 'Forcené', 'code': 'C07.09.01'},\n",
       " {'label': 'Personne dangereuse', 'code': 'C07.09.02'},\n",
       " {'label': 'Personne suspecte rôdeur', 'code': 'C07.09.03'},\n",
       " {'label': 'Piéton sur autoroute voie rapide', 'code': 'C07.09.04'},\n",
       " {'label': 'Mutinerie / incident en centre de détention', 'code': 'C07.13.01'},\n",
       " {'label': 'Rodéo automobile', 'code': 'C07.13.02'},\n",
       " {'label': 'Attroupement', 'code': 'C07.13.03'},\n",
       " {'label': 'Blocage de site', 'code': 'C07.13.04'},\n",
       " {'label': 'Survol illicite', 'code': 'C07.13.05'},\n",
       " {'label': 'Incident', 'code': 'C07.13.06'},\n",
       " {'label': 'Autre trouble à l’ordre public', 'code': 'C07.13.07'},\n",
       " {'label': 'Pollution terrestre', 'code': 'C08.08.01'},\n",
       " {'label': 'Pollution aquatique', 'code': 'C08.08.02'},\n",
       " {'label': 'Catastrophe naturelle', 'code': 'C08.10.01'},\n",
       " {'label': 'Court-circuit', 'code': 'C09.01.01'},\n",
       " {'label': 'Panne électrique', 'code': 'C09.01.02'},\n",
       " {'label': 'Fil électrique tombé', 'code': 'C09.01.03'},\n",
       " {'label': 'Rupture / Arrachement de câble (ou support)', 'code': 'C09.01.04'},\n",
       " {'label': 'Fuite de gaz importante', 'code': 'C09.03.01'},\n",
       " {'label': 'Fuite de fluides liquides', 'code': 'C09.04.01'},\n",
       " {'label': 'Fuite de fluides gazeux', 'code': 'C09.04.02'},\n",
       " {'label': 'Fuite de malfaiteur / évasion', 'code': 'C10.01.01'},\n",
       " {'label': 'Fuite de personnes avec troubles psychiatriques/neurologiques\\xa0',\n",
       "  'code': 'C10.01.02'},\n",
       " {'label': 'Disparition de personne vulnérable', 'code': 'C10.01.03'},\n",
       " {'label': 'Absence de réponse aux appels', 'code': 'C10.01.04'},\n",
       " {'label': 'Autre disparition inquiétante', 'code': 'C10.01.05'},\n",
       " {'label': 'Fugue', 'code': 'C10.01.06'},\n",
       " {'label': 'Recherche secours investigation', 'code': 'C10.01.07'},\n",
       " {'label': 'Découverte de personne égarée', 'code': 'C10.01.08'},\n",
       " {'label': 'Mort a priori suspecte', 'code': 'C10.02.01'},\n",
       " {'label': 'Mort a priori naturelle', 'code': 'C10.02.02'},\n",
       " {'label': \"Disparition d'objet\", 'code': 'C10.03.01'},\n",
       " {'label': \"Découverte d'objet\", 'code': 'C10.03.02'},\n",
       " {'label': \"Disparition d'engin explosif\", 'code': 'C10.04.01'},\n",
       " {'label': \"Découverte d'engin explosif\", 'code': 'C10.04.02'},\n",
       " {'label': 'Protection de Drop Zone', 'code': 'C11.02.01'},\n",
       " {'label': 'Visite sensible autorité / convoi escorte', 'code': 'C11.02.02'},\n",
       " {'label': 'Demande de renseignement', 'code': 'C11.03.01'},\n",
       " {'label': 'Conseil et orientation', 'code': 'C11.03.02'},\n",
       " {'label': 'Echouement, naufrage', 'code': 'C11.05.01'},\n",
       " {'label': 'Dépannage véhicule', 'code': 'C11.05.02'},\n",
       " {'label': 'Porte verrouillée', 'code': 'C11.05.03'}]"
      ]
     },
     "execution_count": 74,
     "metadata": {},
     "output_type": "execute_result"
    }
   ],
   "source": [
    "result"
   ]
  },
  {
   "cell_type": "markdown",
   "metadata": {},
   "source": [
    "# Fasttext"
   ]
  },
  {
   "cell_type": "code",
   "execution_count": 80,
   "metadata": {},
   "outputs": [
    {
     "name": "stdout",
     "output_type": "stream",
     "text": [
      "Collecting fasttext\n",
      "  Using cached fasttext-0.9.2.tar.gz (68 kB)\n",
      "Requirement already satisfied: pybind11>=2.2 in /Users/raphael/anaconda3/envs/cisu_matching/lib/python3.8/site-packages (from fasttext) (2.6.2)\n",
      "Requirement already satisfied: setuptools>=0.7.0 in /Users/raphael/anaconda3/envs/cisu_matching/lib/python3.8/site-packages (from fasttext) (52.0.0.post20210125)\n",
      "Requirement already satisfied: numpy in /Users/raphael/anaconda3/envs/cisu_matching/lib/python3.8/site-packages (from fasttext) (1.20.3)\n",
      "Building wheels for collected packages: fasttext\n",
      "  Building wheel for fasttext (setup.py) ... \u001b[?25ldone\n",
      "\u001b[?25h  Created wheel for fasttext: filename=fasttext-0.9.2-cp38-cp38-macosx_10_16_x86_64.whl size=344675 sha256=d91f48210f235c9df9e65ce0219875350e772cf6e6cbbe7d600a7a8f7cdc3df4\n",
      "  Stored in directory: /Users/raphael/Library/Caches/pip/wheels/93/61/2a/c54711a91c418ba06ba195b1d78ff24fcaad8592f2a694ac94\n",
      "Successfully built fasttext\n",
      "Installing collected packages: fasttext\n",
      "Successfully installed fasttext-0.9.2\n"
     ]
    }
   ],
   "source": [
    "!pip install fasttext"
   ]
  },
  {
   "cell_type": "code",
   "execution_count": 1,
   "metadata": {
    "scrolled": true
   },
   "outputs": [
    {
     "name": "stderr",
     "output_type": "stream",
     "text": [
      "Warning : `load_model` does not return WordVectorModel or SupervisedModel any more, but a `FastText` object which is very similar.\n"
     ]
    }
   ],
   "source": [
    "import fasttext.util\n",
    "#fasttext.util.download_model('fr', if_exists='ignore')  # English\n",
    "ft = fasttext.load_model('cc.fr.300.bin')"
   ]
  },
  {
   "cell_type": "code",
   "execution_count": 2,
   "metadata": {},
   "outputs": [
    {
     "data": {
      "text/plain": [
       "100"
      ]
     },
     "execution_count": 2,
     "metadata": {},
     "output_type": "execute_result"
    }
   ],
   "source": [
    "fasttext.util.reduce_model(ft, 100)\n",
    "ft.get_dimension()"
   ]
  },
  {
   "cell_type": "code",
   "execution_count": 3,
   "metadata": {},
   "outputs": [
    {
     "data": {
      "text/plain": [
       "[(0.81749027967453, 'aciérie'),\n",
       " (0.7903648614883423, 'usines'),\n",
       " (0.7874736785888672, 'Usine'),\n",
       " (0.7836554050445557, 'usine-pilote'),\n",
       " (0.7748782634735107, 'usine-mère'),\n",
       " (0.7568495273590088, 'fonderie'),\n",
       " (0.7543993592262268, 'raffinerie'),\n",
       " (0.752841591835022, 'mini-usine'),\n",
       " (0.7344776391983032, 'minoterie'),\n",
       " (0.72261643409729, 'ex-usine')]"
      ]
     },
     "execution_count": 3,
     "metadata": {},
     "output_type": "execute_result"
    }
   ],
   "source": [
    "ft.get_nearest_neighbors('usine')"
   ]
  },
  {
   "cell_type": "code",
   "execution_count": 4,
   "metadata": {},
   "outputs": [
    {
     "name": "stdout",
     "output_type": "stream",
     "text": [
      "Build matching .ipynb  cc.fr.300.bin          \u001b[1m\u001b[36mdata.ms\u001b[m\u001b[m/\r\n",
      "README.md              cc.fr.300.bin.gz\r\n",
      "\u001b[1m\u001b[36mcamembert-base\u001b[m\u001b[m/        \u001b[1m\u001b[36mdata\u001b[m\u001b[m/\r\n"
     ]
    }
   ],
   "source": [
    "ls"
   ]
  },
  {
   "cell_type": "code",
   "execution_count": 7,
   "metadata": {},
   "outputs": [
    {
     "name": "stdout",
     "output_type": "stream",
     "text": [
      "Collecting gensim\n",
      "  Downloading gensim-4.0.1-cp38-cp38-macosx_10_9_x86_64.whl (23.9 MB)\n",
      "\u001b[K     |████████████████████████████████| 23.9 MB 3.3 MB/s eta 0:00:01\n",
      "\u001b[?25hCollecting smart-open>=1.8.1\n",
      "  Downloading smart_open-5.1.0-py3-none-any.whl (57 kB)\n",
      "\u001b[K     |████████████████████████████████| 57 kB 11.2 MB/s eta 0:00:01\n",
      "\u001b[?25hCollecting scipy>=0.18.1\n",
      "  Downloading scipy-1.6.3-cp38-cp38-macosx_10_9_x86_64.whl (30.8 MB)\n",
      "\u001b[K     |████████████████████████████████| 30.8 MB 31.8 MB/s eta 0:00:01\n",
      "\u001b[?25hRequirement already satisfied: numpy>=1.11.3 in /Users/raphael/anaconda3/envs/cisu_matching/lib/python3.8/site-packages (from gensim) (1.20.3)\n",
      "Installing collected packages: smart-open, scipy, gensim\n",
      "Successfully installed gensim-4.0.1 scipy-1.6.3 smart-open-5.1.0\n"
     ]
    }
   ],
   "source": [
    "!pip install gensim"
   ]
  },
  {
   "cell_type": "code",
   "execution_count": 8,
   "metadata": {},
   "outputs": [
    {
     "name": "stderr",
     "output_type": "stream",
     "text": [
      "/Users/raphael/anaconda3/envs/cisu_matching/lib/python3.8/site-packages/gensim/similarities/__init__.py:15: UserWarning: The gensim.similarities.levenshtein submodule is disabled, because the optional Levenshtein package <https://pypi.org/project/python-Levenshtein/> is unavailable. Install Levenhstein (e.g. `pip install python-Levenshtein`) to suppress this warning.\n",
      "  warnings.warn(msg)\n"
     ]
    }
   ],
   "source": [
    "from gensim.models import FastText\n"
   ]
  },
  {
   "cell_type": "code",
   "execution_count": 9,
   "metadata": {},
   "outputs": [
    {
     "name": "stderr",
     "output_type": "stream",
     "text": [
      "<ipython-input-9-fe86f37e3267>:1: DeprecationWarning: Call to deprecated `load_fasttext_format` (use load_facebook_vectors (to use pretrained embeddings) or load_facebook_model (to continue training with the loaded full model, more RAM) instead).\n",
      "  model = FastText.load_fasttext_format('cc.fr.300.bin')\n"
     ]
    },
    {
     "ename": "KeyboardInterrupt",
     "evalue": "",
     "output_type": "error",
     "traceback": [
      "\u001b[0;31m---------------------------------------------------------------------------\u001b[0m",
      "\u001b[0;31mKeyboardInterrupt\u001b[0m                         Traceback (most recent call last)",
      "\u001b[0;32m<ipython-input-9-fe86f37e3267>\u001b[0m in \u001b[0;36m<module>\u001b[0;34m\u001b[0m\n\u001b[0;32m----> 1\u001b[0;31m \u001b[0mmodel\u001b[0m \u001b[0;34m=\u001b[0m \u001b[0mFastText\u001b[0m\u001b[0;34m.\u001b[0m\u001b[0mload_fasttext_format\u001b[0m\u001b[0;34m(\u001b[0m\u001b[0;34m'cc.fr.300.bin'\u001b[0m\u001b[0;34m)\u001b[0m\u001b[0;34m\u001b[0m\u001b[0;34m\u001b[0m\u001b[0m\n\u001b[0m\u001b[1;32m      2\u001b[0m \u001b[0;34m\u001b[0m\u001b[0m\n\u001b[1;32m      3\u001b[0m \u001b[0mprint\u001b[0m\u001b[0;34m(\u001b[0m\u001b[0mmodel\u001b[0m\u001b[0;34m.\u001b[0m\u001b[0mmost_similar\u001b[0m\u001b[0;34m(\u001b[0m\u001b[0;34m'usine'\u001b[0m\u001b[0;34m)\u001b[0m\u001b[0;34m)\u001b[0m\u001b[0;34m\u001b[0m\u001b[0;34m\u001b[0m\u001b[0m\n",
      "\u001b[0;32m~/anaconda3/envs/cisu_matching/lib/python3.8/site-packages/gensim/utils.py\u001b[0m in \u001b[0;36mnew_func1\u001b[0;34m(*args, **kwargs)\u001b[0m\n\u001b[1;32m   1517\u001b[0m                     \u001b[0mstacklevel\u001b[0m\u001b[0;34m=\u001b[0m\u001b[0;36m2\u001b[0m\u001b[0;34m\u001b[0m\u001b[0;34m\u001b[0m\u001b[0m\n\u001b[1;32m   1518\u001b[0m                 )\n\u001b[0;32m-> 1519\u001b[0;31m                 \u001b[0;32mreturn\u001b[0m \u001b[0mfunc\u001b[0m\u001b[0;34m(\u001b[0m\u001b[0;34m*\u001b[0m\u001b[0margs\u001b[0m\u001b[0;34m,\u001b[0m \u001b[0;34m**\u001b[0m\u001b[0mkwargs\u001b[0m\u001b[0;34m)\u001b[0m\u001b[0;34m\u001b[0m\u001b[0;34m\u001b[0m\u001b[0m\n\u001b[0m\u001b[1;32m   1520\u001b[0m \u001b[0;34m\u001b[0m\u001b[0m\n\u001b[1;32m   1521\u001b[0m             \u001b[0;32mreturn\u001b[0m \u001b[0mnew_func1\u001b[0m\u001b[0;34m\u001b[0m\u001b[0;34m\u001b[0m\u001b[0m\n",
      "\u001b[0;32m~/anaconda3/envs/cisu_matching/lib/python3.8/site-packages/gensim/models/fasttext.py\u001b[0m in \u001b[0;36mload_fasttext_format\u001b[0;34m(cls, model_file, encoding)\u001b[0m\n\u001b[1;32m    567\u001b[0m \u001b[0;34m\u001b[0m\u001b[0m\n\u001b[1;32m    568\u001b[0m         \"\"\"\n\u001b[0;32m--> 569\u001b[0;31m         \u001b[0;32mreturn\u001b[0m \u001b[0mload_facebook_model\u001b[0m\u001b[0;34m(\u001b[0m\u001b[0mmodel_file\u001b[0m\u001b[0;34m,\u001b[0m \u001b[0mencoding\u001b[0m\u001b[0;34m=\u001b[0m\u001b[0mencoding\u001b[0m\u001b[0;34m)\u001b[0m\u001b[0;34m\u001b[0m\u001b[0;34m\u001b[0m\u001b[0m\n\u001b[0m\u001b[1;32m    570\u001b[0m \u001b[0;34m\u001b[0m\u001b[0m\n\u001b[1;32m    571\u001b[0m     @utils.deprecated(\n",
      "\u001b[0;32m~/anaconda3/envs/cisu_matching/lib/python3.8/site-packages/gensim/models/fasttext.py\u001b[0m in \u001b[0;36mload_facebook_model\u001b[0;34m(path, encoding)\u001b[0m\n\u001b[1;32m    715\u001b[0m \u001b[0;34m\u001b[0m\u001b[0m\n\u001b[1;32m    716\u001b[0m     \"\"\"\n\u001b[0;32m--> 717\u001b[0;31m     \u001b[0;32mreturn\u001b[0m \u001b[0m_load_fasttext_format\u001b[0m\u001b[0;34m(\u001b[0m\u001b[0mpath\u001b[0m\u001b[0;34m,\u001b[0m \u001b[0mencoding\u001b[0m\u001b[0;34m=\u001b[0m\u001b[0mencoding\u001b[0m\u001b[0;34m,\u001b[0m \u001b[0mfull_model\u001b[0m\u001b[0;34m=\u001b[0m\u001b[0;32mTrue\u001b[0m\u001b[0;34m)\u001b[0m\u001b[0;34m\u001b[0m\u001b[0;34m\u001b[0m\u001b[0m\n\u001b[0m\u001b[1;32m    718\u001b[0m \u001b[0;34m\u001b[0m\u001b[0m\n\u001b[1;32m    719\u001b[0m \u001b[0;34m\u001b[0m\u001b[0m\n",
      "\u001b[0;32m~/anaconda3/envs/cisu_matching/lib/python3.8/site-packages/gensim/models/fasttext.py\u001b[0m in \u001b[0;36m_load_fasttext_format\u001b[0;34m(model_file, encoding, full_model)\u001b[0m\n\u001b[1;32m    831\u001b[0m     \u001b[0mmodel\u001b[0m\u001b[0;34m.\u001b[0m\u001b[0mnum_original_vectors\u001b[0m \u001b[0;34m=\u001b[0m \u001b[0mm\u001b[0m\u001b[0;34m.\u001b[0m\u001b[0mvectors_ngrams\u001b[0m\u001b[0;34m.\u001b[0m\u001b[0mshape\u001b[0m\u001b[0;34m[\u001b[0m\u001b[0;36m0\u001b[0m\u001b[0;34m]\u001b[0m\u001b[0;34m\u001b[0m\u001b[0;34m\u001b[0m\u001b[0m\n\u001b[1;32m    832\u001b[0m \u001b[0;34m\u001b[0m\u001b[0m\n\u001b[0;32m--> 833\u001b[0;31m     \u001b[0mmodel\u001b[0m\u001b[0;34m.\u001b[0m\u001b[0mwv\u001b[0m\u001b[0;34m.\u001b[0m\u001b[0minit_post_load\u001b[0m\u001b[0;34m(\u001b[0m\u001b[0mm\u001b[0m\u001b[0;34m.\u001b[0m\u001b[0mvectors_ngrams\u001b[0m\u001b[0;34m)\u001b[0m\u001b[0;34m\u001b[0m\u001b[0;34m\u001b[0m\u001b[0m\n\u001b[0m\u001b[1;32m    834\u001b[0m     \u001b[0mmodel\u001b[0m\u001b[0;34m.\u001b[0m\u001b[0m_init_post_load\u001b[0m\u001b[0;34m(\u001b[0m\u001b[0mm\u001b[0m\u001b[0;34m.\u001b[0m\u001b[0mhidden_output\u001b[0m\u001b[0;34m)\u001b[0m\u001b[0;34m\u001b[0m\u001b[0;34m\u001b[0m\u001b[0m\n\u001b[1;32m    835\u001b[0m \u001b[0;34m\u001b[0m\u001b[0m\n",
      "\u001b[0;32m~/anaconda3/envs/cisu_matching/lib/python3.8/site-packages/gensim/models/fasttext.py\u001b[0m in \u001b[0;36minit_post_load\u001b[0;34m(self, fb_vectors)\u001b[0m\n\u001b[1;32m   1161\u001b[0m         \u001b[0mself\u001b[0m\u001b[0;34m.\u001b[0m\u001b[0mvectors_ngrams\u001b[0m \u001b[0;34m=\u001b[0m \u001b[0mnp\u001b[0m\u001b[0;34m.\u001b[0m\u001b[0marray\u001b[0m\u001b[0;34m(\u001b[0m\u001b[0mfb_vectors\u001b[0m\u001b[0;34m[\u001b[0m\u001b[0mvocab_words\u001b[0m\u001b[0;34m:\u001b[0m\u001b[0;34m,\u001b[0m \u001b[0;34m:\u001b[0m\u001b[0;34m]\u001b[0m\u001b[0;34m)\u001b[0m\u001b[0;34m\u001b[0m\u001b[0;34m\u001b[0m\u001b[0m\n\u001b[1;32m   1162\u001b[0m         \u001b[0mself\u001b[0m\u001b[0;34m.\u001b[0m\u001b[0mrecalc_char_ngram_buckets\u001b[0m\u001b[0;34m(\u001b[0m\u001b[0;34m)\u001b[0m\u001b[0;34m\u001b[0m\u001b[0;34m\u001b[0m\u001b[0m\n\u001b[0;32m-> 1163\u001b[0;31m         \u001b[0mself\u001b[0m\u001b[0;34m.\u001b[0m\u001b[0madjust_vectors\u001b[0m\u001b[0;34m(\u001b[0m\u001b[0;34m)\u001b[0m  \u001b[0;31m# calculate composite full-word vectors\u001b[0m\u001b[0;34m\u001b[0m\u001b[0;34m\u001b[0m\u001b[0m\n\u001b[0m\u001b[1;32m   1164\u001b[0m \u001b[0;34m\u001b[0m\u001b[0m\n\u001b[1;32m   1165\u001b[0m     \u001b[0;32mdef\u001b[0m \u001b[0madjust_vectors\u001b[0m\u001b[0;34m(\u001b[0m\u001b[0mself\u001b[0m\u001b[0;34m)\u001b[0m\u001b[0;34m:\u001b[0m\u001b[0;34m\u001b[0m\u001b[0;34m\u001b[0m\u001b[0m\n",
      "\u001b[0;32m~/anaconda3/envs/cisu_matching/lib/python3.8/site-packages/gensim/models/fasttext.py\u001b[0m in \u001b[0;36madjust_vectors\u001b[0;34m(self)\u001b[0m\n\u001b[1;32m   1180\u001b[0m             \u001b[0;32mfor\u001b[0m \u001b[0mnh\u001b[0m \u001b[0;32min\u001b[0m \u001b[0mngram_buckets\u001b[0m\u001b[0;34m:\u001b[0m\u001b[0;34m\u001b[0m\u001b[0;34m\u001b[0m\u001b[0m\n\u001b[1;32m   1181\u001b[0m                 \u001b[0mself\u001b[0m\u001b[0;34m.\u001b[0m\u001b[0mvectors\u001b[0m\u001b[0;34m[\u001b[0m\u001b[0mi\u001b[0m\u001b[0;34m]\u001b[0m \u001b[0;34m+=\u001b[0m \u001b[0mself\u001b[0m\u001b[0;34m.\u001b[0m\u001b[0mvectors_ngrams\u001b[0m\u001b[0;34m[\u001b[0m\u001b[0mnh\u001b[0m\u001b[0;34m]\u001b[0m\u001b[0;34m\u001b[0m\u001b[0;34m\u001b[0m\u001b[0m\n\u001b[0;32m-> 1182\u001b[0;31m             \u001b[0mself\u001b[0m\u001b[0;34m.\u001b[0m\u001b[0mvectors\u001b[0m\u001b[0;34m[\u001b[0m\u001b[0mi\u001b[0m\u001b[0;34m]\u001b[0m \u001b[0;34m/=\u001b[0m \u001b[0mlen\u001b[0m\u001b[0;34m(\u001b[0m\u001b[0mngram_buckets\u001b[0m\u001b[0;34m)\u001b[0m \u001b[0;34m+\u001b[0m \u001b[0;36m1\u001b[0m\u001b[0;34m\u001b[0m\u001b[0;34m\u001b[0m\u001b[0m\n\u001b[0m\u001b[1;32m   1183\u001b[0m \u001b[0;34m\u001b[0m\u001b[0m\n\u001b[1;32m   1184\u001b[0m     \u001b[0;32mdef\u001b[0m \u001b[0mrecalc_char_ngram_buckets\u001b[0m\u001b[0;34m(\u001b[0m\u001b[0mself\u001b[0m\u001b[0;34m)\u001b[0m\u001b[0;34m:\u001b[0m\u001b[0;34m\u001b[0m\u001b[0;34m\u001b[0m\u001b[0m\n",
      "\u001b[0;31mKeyboardInterrupt\u001b[0m: "
     ]
    }
   ],
   "source": [
    "model = FastText.load_fasttext_format('cc.fr.300.bin')\n",
    "\n",
    "print(model.most_similar('usine'))\n"
   ]
  },
  {
   "cell_type": "code",
   "execution_count": null,
   "metadata": {},
   "outputs": [],
   "source": []
  }
 ],
 "metadata": {
  "kernelspec": {
   "display_name": "Python 3",
   "language": "python",
   "name": "python3"
  },
  "language_info": {
   "codemirror_mode": {
    "name": "ipython",
    "version": 3
   },
   "file_extension": ".py",
   "mimetype": "text/x-python",
   "name": "python",
   "nbconvert_exporter": "python",
   "pygments_lexer": "ipython3",
   "version": "3.8.10"
  }
 },
 "nbformat": 4,
 "nbformat_minor": 2
}
